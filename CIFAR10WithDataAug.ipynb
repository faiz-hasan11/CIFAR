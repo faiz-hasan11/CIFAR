{
  "nbformat": 4,
  "nbformat_minor": 0,
  "metadata": {
    "colab": {
      "name": "CIFAR10WithDataAug.ipynb",
      "provenance": [],
      "collapsed_sections": []
    },
    "kernelspec": {
      "name": "python3",
      "display_name": "Python 3"
    }
  },
  "cells": [
    {
      "cell_type": "code",
      "metadata": {
        "id": "NXEjsKYyo4Rn"
      },
      "source": [
        "import keras\n",
        "from keras.datasets import cifar10\n",
        "from keras.preprocessing.image import ImageDataGenerator\n",
        "from keras.models import Sequential\n",
        "from keras.layers import Dense, Dropout, Activation, Flatten\n",
        "from keras.layers import Conv2D, MaxPooling2D\n",
        "import os\n",
        "\n",
        "import numpy as np\n",
        "\n",
        "import seaborn as sns\n",
        "import matplotlib\n",
        "import matplotlib.pyplot as plt\n",
        "\n",
        "from sklearn.metrics import confusion_matrix, classification_report\n",
        "import itertools\n",
        "\n",
        "%matplotlib inline"
      ],
      "execution_count": 1,
      "outputs": []
    },
    {
      "cell_type": "code",
      "metadata": {
        "id": "nDZ5yYV8o886"
      },
      "source": [
        "batch_size = 32  # The default batch size of keras.\n",
        "num_classes = 10  # Number of class for the dataset\n",
        "epochs = 10"
      ],
      "execution_count": 8,
      "outputs": []
    },
    {
      "cell_type": "code",
      "metadata": {
        "id": "zS5WUtVXo_rB",
        "outputId": "503d6623-26c0-4c62-f0b1-6a3ea7a9d3f1",
        "colab": {
          "base_uri": "https://localhost:8080/",
          "height": 84
        }
      },
      "source": [
        "# The data, split between train and test sets:\n",
        "(x_train, y_train), (x_test, y_test) = cifar10.load_data()\n",
        "print('x_train shape:', x_train.shape)\n",
        "print('y_train shape:', y_train.shape)\n",
        "print(x_train.shape[0], 'train samples')\n",
        "print(x_test.shape[0], 'test samples')"
      ],
      "execution_count": 9,
      "outputs": [
        {
          "output_type": "stream",
          "text": [
            "x_train shape: (50000, 32, 32, 3)\n",
            "y_train shape: (50000, 1)\n",
            "50000 train samples\n",
            "10000 test samples\n"
          ],
          "name": "stdout"
        }
      ]
    },
    {
      "cell_type": "code",
      "metadata": {
        "id": "M9prnTkjpCeZ"
      },
      "source": [
        "# Normalize the data. Before we need to connvert data type to float for computation.\n",
        "x_train = x_train.astype('float32')\n",
        "x_test = x_test.astype('float32')\n",
        "x_train /= 255\n",
        "x_test /= 255\n",
        "\n",
        "# Convert class vectors to binary class matrices. This is called one hot encoding.\n",
        "y_train = keras.utils.to_categorical(y_train, num_classes)\n",
        "y_test = keras.utils.to_categorical(y_test, num_classes)"
      ],
      "execution_count": 10,
      "outputs": []
    },
    {
      "cell_type": "code",
      "metadata": {
        "id": "83E0v_RvpHrE",
        "outputId": "7ac2a273-9818-4d21-a275-fa3c56032298",
        "colab": {
          "base_uri": "https://localhost:8080/",
          "height": 756
        }
      },
      "source": [
        "#define the convnet\n",
        "model = Sequential()\n",
        "# CONV => RELU => CONV => RELU => POOL => DROPOUT\n",
        "model.add(Conv2D(32, (3, 3), padding='same',input_shape=x_train.shape[1:]))\n",
        "model.add(Activation('relu'))\n",
        "model.add(Conv2D(32, (3, 3)))\n",
        "model.add(Activation('relu'))\n",
        "model.add(MaxPooling2D(pool_size=(2, 2)))\n",
        "model.add(Dropout(0.25))\n",
        "\n",
        "# CONV => RELU => CONV => RELU => POOL => DROPOUT\n",
        "model.add(Conv2D(64, (3, 3), padding='same'))\n",
        "model.add(Activation('relu'))\n",
        "model.add(Conv2D(64, (3, 3)))\n",
        "model.add(Activation('relu'))\n",
        "model.add(MaxPooling2D(pool_size=(2, 2)))\n",
        "model.add(Dropout(0.25))\n",
        "\n",
        "# FLATTEN => DENSE => RELU => DROPOUT\n",
        "model.add(Flatten())\n",
        "model.add(Dense(512))\n",
        "model.add(Activation('relu'))\n",
        "model.add(Dropout(0.5))\n",
        "# a softmax classifier\n",
        "model.add(Dense(num_classes))\n",
        "model.add(Activation('softmax'))\n",
        "\n",
        "model.summary()"
      ],
      "execution_count": 11,
      "outputs": [
        {
          "output_type": "stream",
          "text": [
            "Model: \"sequential_1\"\n",
            "_________________________________________________________________\n",
            "Layer (type)                 Output Shape              Param #   \n",
            "=================================================================\n",
            "conv2d_4 (Conv2D)            (None, 32, 32, 32)        896       \n",
            "_________________________________________________________________\n",
            "activation_6 (Activation)    (None, 32, 32, 32)        0         \n",
            "_________________________________________________________________\n",
            "conv2d_5 (Conv2D)            (None, 30, 30, 32)        9248      \n",
            "_________________________________________________________________\n",
            "activation_7 (Activation)    (None, 30, 30, 32)        0         \n",
            "_________________________________________________________________\n",
            "max_pooling2d_2 (MaxPooling2 (None, 15, 15, 32)        0         \n",
            "_________________________________________________________________\n",
            "dropout_3 (Dropout)          (None, 15, 15, 32)        0         \n",
            "_________________________________________________________________\n",
            "conv2d_6 (Conv2D)            (None, 15, 15, 64)        18496     \n",
            "_________________________________________________________________\n",
            "activation_8 (Activation)    (None, 15, 15, 64)        0         \n",
            "_________________________________________________________________\n",
            "conv2d_7 (Conv2D)            (None, 13, 13, 64)        36928     \n",
            "_________________________________________________________________\n",
            "activation_9 (Activation)    (None, 13, 13, 64)        0         \n",
            "_________________________________________________________________\n",
            "max_pooling2d_3 (MaxPooling2 (None, 6, 6, 64)          0         \n",
            "_________________________________________________________________\n",
            "dropout_4 (Dropout)          (None, 6, 6, 64)          0         \n",
            "_________________________________________________________________\n",
            "flatten_1 (Flatten)          (None, 2304)              0         \n",
            "_________________________________________________________________\n",
            "dense_2 (Dense)              (None, 512)               1180160   \n",
            "_________________________________________________________________\n",
            "activation_10 (Activation)   (None, 512)               0         \n",
            "_________________________________________________________________\n",
            "dropout_5 (Dropout)          (None, 512)               0         \n",
            "_________________________________________________________________\n",
            "dense_3 (Dense)              (None, 10)                5130      \n",
            "_________________________________________________________________\n",
            "activation_11 (Activation)   (None, 10)                0         \n",
            "=================================================================\n",
            "Total params: 1,250,858\n",
            "Trainable params: 1,250,858\n",
            "Non-trainable params: 0\n",
            "_________________________________________________________________\n"
          ],
          "name": "stdout"
        }
      ]
    },
    {
      "cell_type": "code",
      "metadata": {
        "id": "vZhwdqeUpNHg"
      },
      "source": [
        "model.compile(loss='categorical_crossentropy',\n",
        "              optimizer='adam',\n",
        "              metrics=['accuracy'])"
      ],
      "execution_count": 12,
      "outputs": []
    },
    {
      "cell_type": "code",
      "metadata": {
        "id": "OvNpo0aZpUOE",
        "outputId": "1c82d904-3a14-44ad-b713-c81a6e43846b",
        "colab": {
          "base_uri": "https://localhost:8080/",
          "height": 353
        }
      },
      "source": [
        " history = model.fit(x_train, y_train,\n",
        "              batch_size=batch_size,\n",
        "              epochs=epochs,\n",
        "              validation_data=(x_test, y_test),\n",
        "              shuffle=True)"
      ],
      "execution_count": 13,
      "outputs": [
        {
          "output_type": "stream",
          "text": [
            "Epoch 1/10\n",
            "1563/1563 [==============================] - 226s 144ms/step - loss: 1.5212 - accuracy: 0.4427 - val_loss: 1.1953 - val_accuracy: 0.5763\n",
            "Epoch 2/10\n",
            "1563/1563 [==============================] - 223s 143ms/step - loss: 1.1503 - accuracy: 0.5891 - val_loss: 0.9790 - val_accuracy: 0.6529\n",
            "Epoch 3/10\n",
            "1563/1563 [==============================] - 223s 142ms/step - loss: 1.0044 - accuracy: 0.6465 - val_loss: 0.8562 - val_accuracy: 0.7048\n",
            "Epoch 4/10\n",
            "1563/1563 [==============================] - 226s 145ms/step - loss: 0.9109 - accuracy: 0.6793 - val_loss: 0.8014 - val_accuracy: 0.7202\n",
            "Epoch 5/10\n",
            "1563/1563 [==============================] - 221s 141ms/step - loss: 0.8432 - accuracy: 0.7050 - val_loss: 0.7935 - val_accuracy: 0.7243\n",
            "Epoch 6/10\n",
            "1563/1563 [==============================] - 221s 141ms/step - loss: 0.7851 - accuracy: 0.7261 - val_loss: 0.7516 - val_accuracy: 0.7415\n",
            "Epoch 7/10\n",
            "1563/1563 [==============================] - 226s 145ms/step - loss: 0.7481 - accuracy: 0.7370 - val_loss: 0.7283 - val_accuracy: 0.7456\n",
            "Epoch 8/10\n",
            "1563/1563 [==============================] - 223s 143ms/step - loss: 0.7152 - accuracy: 0.7490 - val_loss: 0.7216 - val_accuracy: 0.7535\n",
            "Epoch 9/10\n",
            "1563/1563 [==============================] - 223s 142ms/step - loss: 0.6845 - accuracy: 0.7595 - val_loss: 0.6958 - val_accuracy: 0.7584\n",
            "Epoch 10/10\n",
            "1563/1563 [==============================] - 223s 142ms/step - loss: 0.6599 - accuracy: 0.7687 - val_loss: 0.6733 - val_accuracy: 0.7685\n"
          ],
          "name": "stdout"
        }
      ]
    },
    {
      "cell_type": "code",
      "metadata": {
        "id": "edfcnL88pXl3",
        "outputId": "a9ca42c5-0959-4b6d-96ce-bc85d3427a29",
        "colab": {
          "base_uri": "https://localhost:8080/",
          "height": 67
        }
      },
      "source": [
        "scores = model.evaluate(x_test, y_test, verbose=1)\n",
        "print('Test loss:', scores[0])\n",
        "print('Test accuracy:', scores[1])"
      ],
      "execution_count": 14,
      "outputs": [
        {
          "output_type": "stream",
          "text": [
            "313/313 [==============================] - 10s 31ms/step - loss: 0.6733 - accuracy: 0.7685\n",
            "Test loss: 0.673309862613678\n",
            "Test accuracy: 0.7684999704360962\n"
          ],
          "name": "stdout"
        }
      ]
    },
    {
      "cell_type": "code",
      "metadata": {
        "id": "7q8FNIkkynW3"
      },
      "source": [
        "datagen = ImageDataGenerator(\n",
        "        featurewise_center=False,  # set input mean to 0 over the dataset\n",
        "        samplewise_center=False,  # set each sample mean to 0\n",
        "        featurewise_std_normalization=False,  # divide inputs by std of the dataset\n",
        "        samplewise_std_normalization=False,  # divide each input by its std\n",
        "        zca_whitening=False,  # apply ZCA whitening\n",
        "        zca_epsilon=1e-06,  # epsilon for ZCA whitening\n",
        "        rotation_range=0,  # randomly rotate images in the range (degrees, 0 to 180)\n",
        "        # randomly shift images horizontally (fraction of total width)\n",
        "        width_shift_range=0.1,\n",
        "        # randomly shift images vertically (fraction of total height)\n",
        "        height_shift_range=0.1,\n",
        "        shear_range=0.,  # set range for random shear\n",
        "        zoom_range=0.,  # set range for random zoom\n",
        "        channel_shift_range=0.,  # set range for random channel shifts\n",
        "        # set mode for filling points outside the input boundaries\n",
        "        fill_mode='nearest',\n",
        "        cval=0.,  # value used for fill_mode = \"constant\"\n",
        "        horizontal_flip=True,  # randomly flip images\n",
        "        vertical_flip=False,  # randomly flip images\n",
        "        # set rescaling factor (applied before any other transformation)\n",
        "        rescale=None,\n",
        "        # set function that will be applied on each input\n",
        "        preprocessing_function=None,\n",
        "        # image data format, either \"channels_first\" or \"channels_last\"\n",
        "        data_format=None,\n",
        "        # fraction of images reserved for validation (strictly between 0 and 1)\n",
        "        validation_split=0.0)\n",
        "\n",
        "    # Compute quantities required for feature-wise normalization\n",
        "    # (std, mean, and principal components if ZCA whitening is applied).\n",
        "datagen.fit(x_train)"
      ],
      "execution_count": 16,
      "outputs": []
    },
    {
      "cell_type": "code",
      "metadata": {
        "id": "yly2F4Tsy4Lt",
        "outputId": "26bc3cb7-a790-48df-dc8c-5db65a9eca12",
        "colab": {
          "base_uri": "https://localhost:8080/",
          "height": 403
        }
      },
      "source": [
        "history = model.fit_generator(datagen.flow(x_train, y_train,\n",
        "                                    batch_size=batch_size),\n",
        "                                    epochs=epochs,\n",
        "                                    validation_data=(x_test, y_test),\n",
        "                                    workers=4)"
      ],
      "execution_count": 17,
      "outputs": [
        {
          "output_type": "stream",
          "text": [
            "WARNING:tensorflow:From <ipython-input-17-762032d1afa5>:5: Model.fit_generator (from tensorflow.python.keras.engine.training) is deprecated and will be removed in a future version.\n",
            "Instructions for updating:\n",
            "Please use Model.fit, which supports generators.\n",
            "Epoch 1/10\n",
            "1563/1563 [==============================] - 243s 155ms/step - loss: 0.9096 - accuracy: 0.6830 - val_loss: 0.7318 - val_accuracy: 0.7514\n",
            "Epoch 2/10\n",
            "1563/1563 [==============================] - 245s 157ms/step - loss: 0.8717 - accuracy: 0.6987 - val_loss: 0.6962 - val_accuracy: 0.7588\n",
            "Epoch 3/10\n",
            "1563/1563 [==============================] - 250s 160ms/step - loss: 0.8485 - accuracy: 0.7073 - val_loss: 0.6987 - val_accuracy: 0.7602\n",
            "Epoch 4/10\n",
            "1563/1563 [==============================] - 246s 157ms/step - loss: 0.8379 - accuracy: 0.7087 - val_loss: 0.7113 - val_accuracy: 0.7565\n",
            "Epoch 5/10\n",
            "1563/1563 [==============================] - 248s 159ms/step - loss: 0.8243 - accuracy: 0.7139 - val_loss: 0.6676 - val_accuracy: 0.7663\n",
            "Epoch 6/10\n",
            "1563/1563 [==============================] - 246s 157ms/step - loss: 0.8184 - accuracy: 0.7172 - val_loss: 0.7212 - val_accuracy: 0.7500\n",
            "Epoch 7/10\n",
            "1563/1563 [==============================] - 246s 157ms/step - loss: 0.8013 - accuracy: 0.7206 - val_loss: 0.6963 - val_accuracy: 0.7636\n",
            "Epoch 8/10\n",
            "1563/1563 [==============================] - 249s 159ms/step - loss: 0.7976 - accuracy: 0.7232 - val_loss: 0.7059 - val_accuracy: 0.7553\n",
            "Epoch 9/10\n",
            "1563/1563 [==============================] - 246s 158ms/step - loss: 0.7899 - accuracy: 0.7276 - val_loss: 0.6977 - val_accuracy: 0.7587\n",
            "Epoch 10/10\n",
            "1563/1563 [==============================] - 248s 159ms/step - loss: 0.7833 - accuracy: 0.7311 - val_loss: 0.6770 - val_accuracy: 0.7656\n"
          ],
          "name": "stdout"
        }
      ]
    },
    {
      "cell_type": "code",
      "metadata": {
        "id": "YFFV0L1DzAns"
      },
      "source": [
        ""
      ],
      "execution_count": null,
      "outputs": []
    }
  ]
}